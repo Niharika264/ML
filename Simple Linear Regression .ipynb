{
 "cells": [
  {
   "cell_type": "code",
   "execution_count": 1,
   "id": "376bf910",
   "metadata": {},
   "outputs": [],
   "source": [
    "import pandas as pd\n",
    "import matplotlib.pyplot as plt\n"
   ]
  },
  {
   "cell_type": "code",
   "execution_count": 2,
   "id": "544cb174",
   "metadata": {},
   "outputs": [],
   "source": [
    "df = pd.read_csv(r\"C:\\Users\\Dell\\Python tasks -- NETZWERK\\.ipynb_checkpoints\\data.csv\")"
   ]
  },
  {
   "cell_type": "code",
   "execution_count": 3,
   "id": "c5f55b92",
   "metadata": {},
   "outputs": [
    {
     "data": {
      "text/html": [
       "<div>\n",
       "<style scoped>\n",
       "    .dataframe tbody tr th:only-of-type {\n",
       "        vertical-align: middle;\n",
       "    }\n",
       "\n",
       "    .dataframe tbody tr th {\n",
       "        vertical-align: top;\n",
       "    }\n",
       "\n",
       "    .dataframe thead th {\n",
       "        text-align: right;\n",
       "    }\n",
       "</style>\n",
       "<table border=\"1\" class=\"dataframe\">\n",
       "  <thead>\n",
       "    <tr style=\"text-align: right;\">\n",
       "      <th></th>\n",
       "      <th>Height</th>\n",
       "      <th>Weight</th>\n",
       "    </tr>\n",
       "  </thead>\n",
       "  <tbody>\n",
       "    <tr>\n",
       "      <th>0</th>\n",
       "      <td>1.47</td>\n",
       "      <td>52.21</td>\n",
       "    </tr>\n",
       "    <tr>\n",
       "      <th>1</th>\n",
       "      <td>1.50</td>\n",
       "      <td>53.12</td>\n",
       "    </tr>\n",
       "    <tr>\n",
       "      <th>2</th>\n",
       "      <td>1.52</td>\n",
       "      <td>54.48</td>\n",
       "    </tr>\n",
       "    <tr>\n",
       "      <th>3</th>\n",
       "      <td>1.55</td>\n",
       "      <td>55.84</td>\n",
       "    </tr>\n",
       "    <tr>\n",
       "      <th>4</th>\n",
       "      <td>1.57</td>\n",
       "      <td>57.20</td>\n",
       "    </tr>\n",
       "  </tbody>\n",
       "</table>\n",
       "</div>"
      ],
      "text/plain": [
       "   Height  Weight\n",
       "0    1.47   52.21\n",
       "1    1.50   53.12\n",
       "2    1.52   54.48\n",
       "3    1.55   55.84\n",
       "4    1.57   57.20"
      ]
     },
     "execution_count": 3,
     "metadata": {},
     "output_type": "execute_result"
    }
   ],
   "source": [
    "df.head()"
   ]
  },
  {
   "cell_type": "code",
   "execution_count": 4,
   "id": "922ded1c",
   "metadata": {},
   "outputs": [],
   "source": [
    "# splitting into X and Y\n",
    "X = df.iloc[:,1]\n",
    "Y = df.iloc[:,0]"
   ]
  },
  {
   "cell_type": "code",
   "execution_count": 5,
   "id": "8fbdc45b",
   "metadata": {},
   "outputs": [
    {
     "data": {
      "text/plain": [
       "(15,)"
      ]
     },
     "execution_count": 5,
     "metadata": {},
     "output_type": "execute_result"
    }
   ],
   "source": [
    "Y.shape"
   ]
  },
  {
   "cell_type": "code",
   "execution_count": 6,
   "id": "a371c027",
   "metadata": {},
   "outputs": [
    {
     "data": {
      "text/plain": [
       "(15,)"
      ]
     },
     "execution_count": 6,
     "metadata": {},
     "output_type": "execute_result"
    }
   ],
   "source": [
    "X.shape"
   ]
  },
  {
   "cell_type": "code",
   "execution_count": 7,
   "id": "917bdf77",
   "metadata": {},
   "outputs": [
    {
     "data": {
      "text/plain": [
       "array([[52.21],\n",
       "       [53.12],\n",
       "       [54.48],\n",
       "       [55.84],\n",
       "       [57.2 ],\n",
       "       [58.57],\n",
       "       [59.93],\n",
       "       [61.29],\n",
       "       [63.11],\n",
       "       [64.47],\n",
       "       [66.28],\n",
       "       [68.1 ],\n",
       "       [69.92],\n",
       "       [72.19],\n",
       "       [74.46]])"
      ]
     },
     "execution_count": 7,
     "metadata": {},
     "output_type": "execute_result"
    }
   ],
   "source": [
    "# X in the form of 2D-array is expected\n",
    "X.values.reshape(-1,1)"
   ]
  },
  {
   "cell_type": "code",
   "execution_count": 8,
   "id": "1098509d",
   "metadata": {},
   "outputs": [],
   "source": [
    "# since there is only one feature i.e., only 1 X-column no need of feature scaling(converting into standardized normal value)"
   ]
  },
  {
   "cell_type": "code",
   "execution_count": 9,
   "id": "9eb6074e",
   "metadata": {},
   "outputs": [],
   "source": [
    "# splitting into training and testing data\n",
    "from sklearn.model_selection import train_test_split"
   ]
  },
  {
   "cell_type": "code",
   "execution_count": 10,
   "id": "af90ffcd",
   "metadata": {},
   "outputs": [],
   "source": [
    "X_tr,X_ts,Y_tr,Y_ts = train_test_split(X,Y,random_state=0,test_size=0.3)"
   ]
  },
  {
   "cell_type": "code",
   "execution_count": 11,
   "id": "9c20efaf",
   "metadata": {},
   "outputs": [
    {
     "data": {
      "text/plain": [
       "(10,)"
      ]
     },
     "execution_count": 11,
     "metadata": {},
     "output_type": "execute_result"
    }
   ],
   "source": [
    "X_tr.shape"
   ]
  },
  {
   "cell_type": "code",
   "execution_count": 12,
   "id": "69f04947",
   "metadata": {},
   "outputs": [
    {
     "data": {
      "text/plain": [
       "(5,)"
      ]
     },
     "execution_count": 12,
     "metadata": {},
     "output_type": "execute_result"
    }
   ],
   "source": [
    "X_ts.shape"
   ]
  },
  {
   "cell_type": "code",
   "execution_count": 13,
   "id": "24c6f854",
   "metadata": {},
   "outputs": [
    {
     "data": {
      "image/png": "[encoded data removed]",
      "text/plain": [
       "<Figure size 432x288 with 1 Axes>"
      ]
     },
     "metadata": {
      "needs_background": "light"
     },
     "output_type": "display_data"
    }
   ],
   "source": [
    "# visualizing training and testing data points\n",
    "plt.scatter(X_tr,Y_tr,c='r',label='training data points')\n",
    "plt.scatter(X_ts,Y_ts,c='g',label='testing data points')\n",
    "plt.legend()\n",
    "plt.title(\"Train-test split\")\n",
    "plt.show()"
   ]
  },
  {
   "cell_type": "code",
   "execution_count": 24,
   "id": "6e045772",
   "metadata": {},
   "outputs": [],
   "source": [
    "# model building--> finding best-fit linear-regression line\n",
    "from sklearn.linear_model import LinearRegression\n",
    "regressor = LinearRegression()"
   ]
  },
  {
   "cell_type": "code",
   "execution_count": 26,
   "id": "ebe17723",
   "metadata": {},
   "outputs": [
    {
     "data": {
      "text/plain": [
       "LinearRegression()"
      ]
     },
     "execution_count": 26,
     "metadata": {},
     "output_type": "execute_result"
    }
   ],
   "source": [
    "regressor.fit(X_tr.values.reshape(-1,1),Y_tr)"
   ]
  },
  {
   "cell_type": "code",
   "execution_count": 22,
   "id": "d7033611",
   "metadata": {},
   "outputs": [],
   "source": [
    "y_pred = model.predict(X_ts.values.reshape(-1,1))"
   ]
  },
  {
   "cell_type": "code",
   "execution_count": 28,
   "id": "26de0091",
   "metadata": {},
   "outputs": [
    {
     "data": {
      "image/png": "[encoded data removed]",
      "text/plain": [
       "<Figure size 432x288 with 1 Axes>"
      ]
     },
     "metadata": {
      "needs_background": "light"
     },
     "output_type": "display_data"
    }
   ],
   "source": [
    "# visualizing distance b/w actual and predicted values for training data set by the model\n",
    "plt.scatter(X_tr.values.reshape(-1,1),Y_tr,c='r',label='actual value')\n",
    "plt.plot(X_tr.values.reshape(-1,1),model.predict(X_tr.values.reshape(-1,1)),label='predicted value')\n",
    "plt.legend()\n",
    "plt.title('Graph-1')\n",
    "plt.ylabel('height in meters')\n",
    "plt.xlabel('Weight in kgs')\n",
    "plt.show()"
   ]
  },
  {
   "cell_type": "code",
   "execution_count": 29,
   "id": "ddfdc0eb",
   "metadata": {},
   "outputs": [
    {
     "data": {
      "image/png": "[encoded data removed]",
      "text/plain": [
       "<Figure size 432x288 with 1 Axes>"
      ]
     },
     "metadata": {
      "needs_background": "light"
     },
     "output_type": "display_data"
    }
   ],
   "source": [
    "# visualising distance b/w actual and predicted values obtained by passing testing data to the model\n",
    "plt.scatter(X_ts.values.reshape(-1,1),Y_ts,c='g',label='actual value')\n",
    "plt.plot(X_ts.values.reshape(-1,1),y_pred,label='predicted value')\n",
    "plt.legend()\n",
    "plt.title('Graph-2')\n",
    "plt.ylabel('height in meters')\n",
    "plt.xlabel('Weight in kgs')\n",
    "plt.show()"
   ]
  },
  {
   "cell_type": "raw",
   "id": "5de7d75b",
   "metadata": {},
   "source": [
    "# from graph-1 and graph-2 , we can visualize that the linear regression line which is given by the model is the BEST-FIT\n",
    "# bcz, the distance b/w Y(actual) and Y(predicted) is minimum\n",
    "#  Y(actual) - Y(predicted) = minimum / very less\n",
    "# Hence the error is less"
   ]
  },
  {
   "cell_type": "code",
   "execution_count": 30,
   "id": "4dd6bfd1",
   "metadata": {},
   "outputs": [],
   "source": [
    "from sklearn.metrics import r2_score"
   ]
  },
  {
   "cell_type": "code",
   "execution_count": 32,
   "id": "47b4432e",
   "metadata": {},
   "outputs": [
    {
     "data": {
      "text/plain": [
       "0.9797781777076808"
      ]
     },
     "execution_count": 32,
     "metadata": {},
     "output_type": "execute_result"
    }
   ],
   "source": [
    "r2_score(Y_ts,y_pred)"
   ]
  },
  {
   "cell_type": "code",
   "execution_count": null,
   "id": "4790d12a",
   "metadata": {},
   "outputs": [],
   "source": []
  }
 ],
 "metadata": {
  "kernelspec": {
   "display_name": "Python 3",
   "language": "python",
   "name": "python3"
  },
  "language_info": {
   "codemirror_mode": {
    "name": "ipython",
    "version": 3
   },
   "file_extension": ".py",
   "mimetype": "text/x-python",
   "name": "python",
   "nbconvert_exporter": "python",
   "pygments_lexer": "ipython3",
   "version": "3.8.8"
  }
 },
 "nbformat": 4,
 "nbformat_minor": 5
}
